{
  "nbformat": 4,
  "nbformat_minor": 0,
  "metadata": {
    "colab": {
      "provenance": [],
      "gpuType": "T4",
      "authorship_tag": "ABX9TyOVXhMwY62xHzmQronK9Zpw",
      "include_colab_link": true
    },
    "kernelspec": {
      "name": "python3",
      "display_name": "Python 3"
    },
    "language_info": {
      "name": "python"
    },
    "accelerator": "GPU"
  },
  "cells": [
    {
      "cell_type": "markdown",
      "metadata": {
        "id": "view-in-github",
        "colab_type": "text"
      },
      "source": [
        "<a href=\"https://colab.research.google.com/github/Zaxis018/Data-Mining/blob/main/PCA_motivation.ipynb\" target=\"_parent\"><img src=\"https://colab.research.google.com/assets/colab-badge.svg\" alt=\"Open In Colab\"/></a>"
      ]
    },
    {
      "cell_type": "code",
      "execution_count": null,
      "metadata": {
        "id": "nuoDKf2Ogo-X"
      },
      "outputs": [],
      "source": [
        "import numpy as np\n",
        "import matplotlib.pyplot as plt\n",
        "from numpy import random\n",
        "import random\n",
        "\n",
        "##1. plot random data\n",
        "x1 = np.random.randn(50)\n",
        "x2 = np.random.randn(50)"
      ]
    },
    {
      "cell_type": "code",
      "source": [
        "plt.scatter(x1,x2)"
      ],
      "metadata": {
        "colab": {
          "base_uri": "https://localhost:8080/",
          "height": 448
        },
        "id": "vRG7DbgTh0rc",
        "outputId": "efa9ac51-3f4e-4916-e256-8a52058b5768"
      },
      "execution_count": null,
      "outputs": [
        {
          "output_type": "execute_result",
          "data": {
            "text/plain": [
              "<matplotlib.collections.PathCollection at 0x7f6b5179ac50>"
            ]
          },
          "metadata": {},
          "execution_count": 39
        },
        {
          "output_type": "display_data",
          "data": {
            "text/plain": [
              "<Figure size 640x480 with 1 Axes>"
            ],
            "image/png": "[encoded data removed]"
          },
          "metadata": {}
        }
      ]
    },
    {
      "cell_type": "code",
      "source": [
        "mean1 = np.mean(x1)\n",
        "mean2 = np.mean(x2)\n",
        "sd1 = np.std(x1)\n",
        "sd2 = np.std(x2)\n",
        "\n",
        "print(mean1)\n",
        "print(mean2)\n",
        "print(sd1)\n",
        "print(sd2)"
      ],
      "metadata": {
        "colab": {
          "base_uri": "https://localhost:8080/"
        },
        "id": "diNezOuFiSBJ",
        "outputId": "4ffbc453-5a2a-40f1-e4df-c1290f98f4a3"
      },
      "execution_count": null,
      "outputs": [
        {
          "output_type": "stream",
          "name": "stdout",
          "text": [
            "0.2551453368625194\n",
            "-0.15608322261473778\n",
            "0.9955351437644552\n",
            "0.9769772663036179\n"
          ]
        }
      ]
    },
    {
      "cell_type": "code",
      "source": [
        "#Generate  random matrix with elements from normal distribution\n",
        "mat1 = np.random.rand(2,2)\n",
        "print(mat1)"
      ],
      "metadata": {
        "colab": {
          "base_uri": "https://localhost:8080/"
        },
        "id": "OivCB6BJigK5",
        "outputId": "8a0b3f0c-14e8-4fab-9e6f-dbb4b7cc3b30"
      },
      "execution_count": null,
      "outputs": [
        {
          "output_type": "stream",
          "name": "stdout",
          "text": [
            "[[0.85580331 0.90185572]\n",
            " [0.38234419 0.63237597]]\n"
          ]
        }
      ]
    },
    {
      "cell_type": "code",
      "source": [
        "#create matrix of data points(50 x 2)\n",
        "# Convert the lists to NumPy arrays\n",
        "x1_array = np.array(x1)\n",
        "x2_array = np.array(x2)\n",
        "\n",
        "# Create a matrix from the arrays\n",
        "data_matrix = np.column_stack((x1_array, x2_array))\n",
        "\n",
        "# Print the matrix\n",
        "print(data_matrix)\n",
        "print(data_matrix.shape)"
      ],
      "metadata": {
        "colab": {
          "base_uri": "https://localhost:8080/"
        },
        "id": "KoNUsOmZe31v",
        "outputId": "6149052c-b31b-44c2-94b5-c74376c04e7f"
      },
      "execution_count": null,
      "outputs": [
        {
          "output_type": "stream",
          "name": "stdout",
          "text": [
            "[[-1.11832339 -1.49341267]\n",
            " [ 0.6806459  -0.85042159]\n",
            " [ 0.54014762 -0.5011942 ]\n",
            " [-0.74368946 -1.89892857]\n",
            " [ 0.0664102   1.08644828]\n",
            " [ 0.07151568 -0.29381024]\n",
            " [-0.66022351  0.03879302]\n",
            " [ 0.10968341 -1.01927033]\n",
            " [-0.79545128 -0.60061145]\n",
            " [-0.49014241 -0.38777066]\n",
            " [ 0.35162587 -0.27672472]\n",
            " [ 2.14451808 -0.31677435]\n",
            " [ 0.1303858  -0.7619632 ]\n",
            " [ 0.89736707 -3.00321664]\n",
            " [-0.0654087   0.08767163]\n",
            " [ 1.78746723  0.27556739]\n",
            " [-1.32758992 -1.3135062 ]\n",
            " [ 0.43504154 -0.25677816]\n",
            " [-1.20472083 -0.35448057]\n",
            " [ 0.31060964  1.36247038]\n",
            " [ 0.45782778 -0.50491543]\n",
            " [-1.34930323  1.77053378]\n",
            " [-0.04323891  0.00313716]\n",
            " [ 1.19774436 -0.16376024]\n",
            " [-0.31403749  2.11850974]\n",
            " [ 2.77201488 -0.40146953]\n",
            " [-0.47330981  1.01297265]\n",
            " [-0.13017341 -0.71414136]\n",
            " [-0.15731401  1.07383524]\n",
            " [-0.00834786  0.21636108]\n",
            " [ 1.07451982 -0.9939313 ]\n",
            " [-0.75303841 -0.0127174 ]\n",
            " [ 0.50625929 -0.54860424]\n",
            " [-0.44600681 -2.45915905]\n",
            " [ 1.37715453  1.23384467]\n",
            " [-1.03527697  1.02545042]\n",
            " [ 1.5045342  -0.46455175]\n",
            " [ 2.5074578  -0.02220943]\n",
            " [ 2.55012843  0.40907735]\n",
            " [-0.46505324  0.03243227]\n",
            " [ 0.07785655  0.12992301]\n",
            " [ 0.06458959  0.8381082 ]\n",
            " [-0.15336789 -0.89853537]\n",
            " [ 0.21988014  0.95796059]\n",
            " [ 1.23736905 -1.05081502]\n",
            " [ 0.1131871   0.22380806]\n",
            " [ 1.42775756  0.62526691]\n",
            " [ 0.11648187  0.21153416]\n",
            " [-0.84025551 -0.29478817]\n",
            " [ 0.6013589  -0.67940528]]\n",
            "(50, 2)\n"
          ]
        }
      ]
    },
    {
      "cell_type": "code",
      "source": [
        "transformed=data_matrix @ mat1"
      ],
      "metadata": {
        "id": "ifcYv09re4eU"
      },
      "execution_count": null,
      "outputs": []
    },
    {
      "cell_type": "code",
      "source": [
        "plt.scatter(transformed[:,0],transformed[:,1])"
      ],
      "metadata": {
        "colab": {
          "base_uri": "https://localhost:8080/",
          "height": 448
        },
        "id": "WKxVRrrRhcd8",
        "outputId": "4d5687f4-50cb-484b-befc-e355fb32929e"
      },
      "execution_count": null,
      "outputs": [
        {
          "output_type": "execute_result",
          "data": {
            "text/plain": [
              "<matplotlib.collections.PathCollection at 0x7f6b51bf5c90>"
            ]
          },
          "metadata": {},
          "execution_count": 44
        },
        {
          "output_type": "display_data",
          "data": {
            "text/plain": [
              "<Figure size 640x480 with 1 Axes>"
            ],
            "image/png": "[encoded data removed]"
          },
          "metadata": {}
        }
      ]
    },
    {
      "cell_type": "code",
      "source": [
        "#create function for the same above task\n",
        "def create_data(number):\n",
        "  a = np.random.randn(number)\n",
        "  b = np.random.randn(number)\n",
        "  plt.scatter(a,b)\n",
        "  matrix1 = np.random.rand(2,2)\n",
        "  a_array = np.array(a)\n",
        "  b_array = np.array(b)\n",
        "\n",
        "  # Create a matrix from the arrays\n",
        "  data_matrix1 = np.column_stack((a_array, b_array))\n",
        "  transformed1=data_matrix1 @ matrix1\n",
        "  plt.scatter(transformed1[:,0],transformed1[:,1])\n",
        "  return 0\n"
      ],
      "metadata": {
        "id": "PWR4ToBtjQdx"
      },
      "execution_count": null,
      "outputs": []
    },
    {
      "cell_type": "code",
      "source": [
        "create_data(200)"
      ],
      "metadata": {
        "colab": {
          "base_uri": "https://localhost:8080/",
          "height": 448
        },
        "id": "V4cRRXJZkcbA",
        "outputId": "21c392d3-e4d6-4d7f-c925-48f19f7e2145"
      },
      "execution_count": null,
      "outputs": [
        {
          "output_type": "execute_result",
          "data": {
            "text/plain": [
              "0"
            ]
          },
          "metadata": {},
          "execution_count": 50
        },
        {
          "output_type": "display_data",
          "data": {
            "text/plain": [
              "<Figure size 640x480 with 1 Axes>"
            ],
            "image/png": "[encoded data removed]"
          },
          "metadata": {}
        }
      ]
    },
    {
      "cell_type": "code",
      "source": [
        "var = np.cov(np.transpose(transformed))\n",
        "print(var)"
      ],
      "metadata": {
        "colab": {
          "base_uri": "https://localhost:8080/"
        },
        "id": "22Sk4Jj2xGJn",
        "outputId": "1943837d-d745-4a89-c30f-d092e6ac09b0"
      },
      "execution_count": null,
      "outputs": [
        {
          "output_type": "stream",
          "name": "stdout",
          "text": [
            "[[0.87796507 1.00912609]\n",
            " [1.00912609 1.20314057]]\n"
          ]
        }
      ]
    },
    {
      "cell_type": "code",
      "source": [
        "eigen_values, eigen_vectors = np.linalg.eig(var)\n",
        "print(eigen_values)\n",
        "print(eigen_vectors)#dimension of eigen-vectors= dimension of data =2"
      ],
      "metadata": {
        "colab": {
          "base_uri": "https://localhost:8080/"
        },
        "id": "PxS_idnlxF5B",
        "outputId": "d899a817-a1d0-41ce-f113-2d1814353355"
      },
      "execution_count": null,
      "outputs": [
        {
          "output_type": "stream",
          "name": "stdout",
          "text": [
            "[0.01841279 2.06269285]\n",
            "[[-0.76127066 -0.64843426]\n",
            " [ 0.64843426 -0.76127066]]\n"
          ]
        }
      ]
    },
    {
      "cell_type": "code",
      "source": [
        "prop1 = eigen_values[0] / np.sum(eigen_values)\n",
        "print(prop1*100)"
      ],
      "metadata": {
        "colab": {
          "base_uri": "https://localhost:8080/"
        },
        "id": "HV6lQF5FxFe4",
        "outputId": "5312c8db-a835-44b2-de49-518662f180ef"
      },
      "execution_count": null,
      "outputs": [
        {
          "output_type": "stream",
          "name": "stdout",
          "text": [
            "0.8847598922893454\n"
          ]
        }
      ]
    },
    {
      "cell_type": "code",
      "source": [
        "## 8. implement\n",
        "best_eigen_vector = np.transpose( eigen_vectors[:,0])\n",
        "result_mat_trans = np.transpose(transformed)\n",
        "\n",
        "new_data = np.dot(best_eigen_vector,result_mat_trans)\n",
        "new_data.shape"
      ],
      "metadata": {
        "colab": {
          "base_uri": "https://localhost:8080/"
        },
        "id": "mgnBYly6xFWk",
        "outputId": "1dcff0fe-2606-42ff-d1fe-4cc55df845a8"
      },
      "execution_count": null,
      "outputs": [
        {
          "output_type": "execute_result",
          "data": {
            "text/plain": [
              "(50,)"
            ]
          },
          "metadata": {},
          "execution_count": 58
        }
      ]
    },
    {
      "cell_type": "code",
      "source": [
        "new_data_covar = np.cov(new_data)\n",
        "print(new_data_covar)"
      ],
      "metadata": {
        "colab": {
          "base_uri": "https://localhost:8080/"
        },
        "id": "NQpUsnG71qSX",
        "outputId": "223eae28-eb90-4d69-dc42-758d1780f8c7"
      },
      "execution_count": null,
      "outputs": [
        {
          "output_type": "stream",
          "name": "stdout",
          "text": [
            "0.018412788014031435\n"
          ]
        }
      ]
    },
    {
      "cell_type": "code",
      "source": [
        "best_eigen_vector = np.transpose( eigen_vectors)\n",
        "result_mat_trans = np.transpose(transformed)\n",
        "\n",
        "new_data1 = np.dot(best_eigen_vector,result_mat_trans)\n",
        "new_data1.shape"
      ],
      "metadata": {
        "colab": {
          "base_uri": "https://localhost:8080/"
        },
        "id": "ls-Bq8VW2luH",
        "outputId": "81163b53-b752-4e22-f1a8-0a9f845d184a"
      },
      "execution_count": null,
      "outputs": [
        {
          "output_type": "execute_result",
          "data": {
            "text/plain": [
              "(2, 50)"
            ]
          },
          "metadata": {},
          "execution_count": 60
        }
      ]
    },
    {
      "cell_type": "code",
      "source": [
        "new_data_covar2 = np.cov(new_data1)\n",
        "print(new_data1)"
      ],
      "metadata": {
        "colab": {
          "base_uri": "https://localhost:8080/"
        },
        "id": "X-Zoby922p5G",
        "outputId": "8635c1dc-f84e-4266-9755-71dc55f59bcb"
      },
      "execution_count": null,
      "outputs": [
        {
          "output_type": "stream",
          "name": "stdout",
          "text": [
            "[[-1.03100025e-01 -1.46590642e-01 -9.56654108e-02 -1.76340586e-01\n",
            "   1.24843229e-01 -3.97299180e-02  4.86552764e-02 -1.28596050e-01\n",
            "  -1.84052312e-02 -1.34452414e-02 -5.63813804e-02 -1.80739485e-01\n",
            "  -9.93608177e-02 -4.17201036e-01  1.47947780e-02 -8.64419679e-02\n",
            "  -6.77346505e-02 -5.95721451e-02  3.81809382e-02  1.41397194e-01\n",
            "  -9.06171414e-02  3.00673864e-01  3.25747978e-03 -9.93794145e-02\n",
            "   2.73022263e-01 -2.32673518e-01  1.52101973e-01 -7.62903583e-02\n",
            "   1.38265699e-01  2.63009542e-02 -1.89939295e-01  4.87173210e-02\n",
            "  -9.90461010e-02 -2.62857201e-01  5.49498294e-02  1.91072009e-01\n",
            "  -1.55633692e-01 -1.69899596e-01 -1.21428441e-01  3.48798326e-02\n",
            "   1.02658001e-02  9.54154706e-02 -9.66836587e-02  9.93178568e-02\n",
            "  -2.07570372e-01  1.90802022e-02 -2.08383264e-02  1.73999963e-02\n",
            "   2.09723248e-02 -1.20953209e-01]\n",
            " [ 2.47758275e+00 -2.24772369e-01 -3.05048904e-01  2.30823572e+00\n",
            "  -8.74831541e-01  1.25500006e-01  7.91366797e-01  6.07218166e-01\n",
            "   1.42559016e+00  8.91320614e-01 -2.34714625e-01 -2.43136007e+00\n",
            "   3.93853457e-01  1.07627815e+00  1.72622134e-02 -2.42010072e+00\n",
            "   2.60617276e+00 -3.52821935e-01  1.75418188e+00 -1.37931472e+00\n",
            "  -2.00135746e-01  3.83833316e-01  5.13925698e-02 -1.36754985e+00\n",
            "  -1.15522799e+00 -3.14861901e+00 -1.51187075e-01  6.82456609e-01\n",
            "  -5.87881392e-01 -1.47435791e-01 -6.09095747e-01  9.44163742e-01\n",
            "  -2.28399161e-01  2.34726146e+00 -2.60960676e+00  5.37388221e-01\n",
            "  -1.52904832e+00 -3.09678186e+00 -3.46430921e+00  5.53704270e-01\n",
            "  -1.91415331e-01 -6.91448327e-01  8.45737170e-01 -9.71652212e-01\n",
            "  -7.69783939e-01 -3.03751384e-01 -2.22857319e+00 -2.98890021e-01\n",
            "   1.25816667e+00 -2.51066539e-01]]\n"
          ]
        }
      ]
    },
    {
      "cell_type": "code",
      "source": [
        "plt.scatter(new_data1[0,:],new_data1[1,:])\n",
        "plt.xlim(-3,3)"
      ],
      "metadata": {
        "colab": {
          "base_uri": "https://localhost:8080/",
          "height": 448
        },
        "id": "rsYXKzkD2s4y",
        "outputId": "9a10e6c6-4e9d-4aa4-fa9c-6dc71d81674c"
      },
      "execution_count": null,
      "outputs": [
        {
          "output_type": "execute_result",
          "data": {
            "text/plain": [
              "(-3.0, 3.0)"
            ]
          },
          "metadata": {},
          "execution_count": 65
        },
        {
          "output_type": "display_data",
          "data": {
            "text/plain": [
              "<Figure size 640x480 with 1 Axes>"
            ],
            "image/png": "[encoded data removed]"
          },
          "metadata": {}
        }
      ]
    },
    {
      "cell_type": "code",
      "source": [
        "new_data1[:,1]"
      ],
      "metadata": {
        "colab": {
          "base_uri": "https://localhost:8080/"
        },
        "id": "CWmKcFrx4cpN",
        "outputId": "56b4f78f-4e37-4ea6-a919-b2246cd07469"
      },
      "execution_count": null,
      "outputs": [
        {
          "output_type": "execute_result",
          "data": {
            "text/plain": [
              "array([-0.14659064, -0.22477237])"
            ]
          },
          "metadata": {},
          "execution_count": 68
        }
      ]
    },
    {
      "cell_type": "code",
      "source": [
        "zeros = np.zeros(50)\n",
        "plt.scatter(zeros,new_data1[1,:])\n",
        "plt.grid()"
      ],
      "metadata": {
        "colab": {
          "base_uri": "https://localhost:8080/",
          "height": 430
        },
        "id": "uOVlXhic3sQs",
        "outputId": "2b4e9b1e-7f94-48df-f8ef-b77c89cd279d"
      },
      "execution_count": null,
      "outputs": [
        {
          "output_type": "display_data",
          "data": {
            "text/plain": [
              "<Figure size 640x480 with 1 Axes>"
            ],
            "image/png": "[encoded data removed]"
          },
          "metadata": {}
        }
      ]
    }
  ]
}
